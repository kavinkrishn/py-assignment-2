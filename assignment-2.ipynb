{
 "cells": [
  {
   "cell_type": "markdown",
   "metadata": {},
   "source": [
    "Write a python Program to implement your own myreduce() Function which works exactly like python bulit in function reduce()\n",
    "Write a python Program to implement your own myfilter() Function which works exactly like python bulit in function filter()"
   ]
  },
  {
   "cell_type": "code",
   "execution_count": 1,
   "metadata": {},
   "outputs": [],
   "source": [
    "from functools import reduce"
   ]
  },
  {
   "cell_type": "code",
   "execution_count": 18,
   "metadata": {},
   "outputs": [],
   "source": [
    "def myreduce(anyfunc,sequence):\n",
    "    result=sequence[0]\n",
    "    for item in sequence[1:]:\n",
    "        result = anyfunc(result,item)\n",
    "    return result\n",
    "        "
   ]
  },
  {
   "cell_type": "code",
   "execution_count": 20,
   "metadata": {},
   "outputs": [],
   "source": [
    "def myfilter(anyfunc,sequence):\n",
    "    result=[]\n",
    "    for item in sequence:\n",
    "        if anyfunc(item):\n",
    "            result.append(item)\n",
    "    return result"
   ]
  },
  {
   "cell_type": "code",
   "execution_count": 12,
   "metadata": {},
   "outputs": [],
   "source": [
    "def sum(x,y):\n",
    "    return x+y\n",
    "def ispostive(x):\n",
    "    if(x<=0):\n",
    "        return False\n",
    "    else:\n",
    "        return True\n",
    "    "
   ]
  },
  {
   "cell_type": "code",
   "execution_count": 19,
   "metadata": {},
   "outputs": [
    {
     "data": {
      "text/plain": [
       "10"
      ]
     },
     "execution_count": 19,
     "metadata": {},
     "output_type": "execute_result"
    }
   ],
   "source": [
    "myreduce(sum,[1,2,3,4])"
   ]
  },
  {
   "cell_type": "code",
   "execution_count": 21,
   "metadata": {},
   "outputs": [
    {
     "data": {
      "text/plain": [
       "[1, 2, 3]"
      ]
     },
     "execution_count": 21,
     "metadata": {},
     "output_type": "execute_result"
    }
   ],
   "source": [
    "myfilter(ispostive,[1,2,3,-1,-2,-3])"
   ]
  },
  {
   "cell_type": "markdown",
   "metadata": {},
   "source": [
    "Implementation of List Comprehensions to products "
   ]
  },
  {
   "cell_type": "code",
   "execution_count": 29,
   "metadata": {},
   "outputs": [],
   "source": [
    "word = \"ACADGILD\"\n",
    "L=list(word)"
   ]
  },
  {
   "cell_type": "code",
   "execution_count": 31,
   "metadata": {},
   "outputs": [
    {
     "data": {
      "text/plain": [
       "['A', 'C', 'A', 'D', 'G', 'I', 'L', 'D']"
      ]
     },
     "execution_count": 31,
     "metadata": {},
     "output_type": "execute_result"
    }
   ],
   "source": [
    "L"
   ]
  },
  {
   "cell_type": "code",
   "execution_count": 48,
   "metadata": {},
   "outputs": [
    {
     "name": "stdout",
     "output_type": "stream",
     "text": [
      "['x', 'xx', 'xxx', 'xxxx', 'y', 'yy', 'yyy', 'yyyy', 'z', 'zz', 'zzz', 'zzzz']\n"
     ]
    }
   ],
   "source": [
    "i_list = ['x','y','z']\n",
    "r = range(1,5)\n",
    "print([i*j for i in i_list for j in r])"
   ]
  },
  {
   "cell_type": "code",
   "execution_count": 49,
   "metadata": {},
   "outputs": [
    {
     "name": "stdout",
     "output_type": "stream",
     "text": [
      "['x', 'y', 'z', 'xx', 'yy', 'zz', 'xx', 'yy', 'zz', 'xxxx', 'yyyy', 'zzzz']\n"
     ]
    }
   ],
   "source": [
    "i_list = ['x','y','z']\n",
    "range1 = range(1,3)\n",
    "range2 = range(1,3)\n",
    "print([k*j*i for i in range1 for j in range2 for k in i_list])"
   ]
  },
  {
   "cell_type": "code",
   "execution_count": 51,
   "metadata": {},
   "outputs": [
    {
     "name": "stdout",
     "output_type": "stream",
     "text": [
      "[[2], [3], [4], [3], [4], [5], [4], [5], [6]]\n"
     ]
    }
   ],
   "source": [
    "range1 = range(2,5)\n",
    "range2 = range(3)\n",
    "print([[i+j]for i in range1 for j in range2])"
   ]
  },
  {
   "cell_type": "code",
   "execution_count": 64,
   "metadata": {},
   "outputs": [
    {
     "name": "stdout",
     "output_type": "stream",
     "text": [
      "[2, 3, 4, 5, 3, 4, 5, 6, 4, 5, 6, 7, 5, 6, 7, 8]\n"
     ]
    }
   ],
   "source": [
    "list=[2,3,4,5]\n",
    "print([(i+j)for i in list for j in range(4)])"
   ]
  },
  {
   "cell_type": "code",
   "execution_count": 67,
   "metadata": {},
   "outputs": [
    {
     "name": "stdout",
     "output_type": "stream",
     "text": [
      "[(1, 1), (2, 1), (3, 1), (1, 2), (2, 2), (3, 2), (1, 3), (2, 3), (3, 3)]\n"
     ]
    }
   ],
   "source": [
    "listouter  = [1,2,3]\n",
    "listinner = [1,2,3]\n",
    "print([(j,i)for i in listouter for j in listinner])"
   ]
  },
  {
   "cell_type": "markdown",
   "metadata": {},
   "source": [
    "Implement a function longword() the takes a list of words and return the logest one"
   ]
  },
  {
   "cell_type": "code",
   "execution_count": 75,
   "metadata": {},
   "outputs": [],
   "source": [
    "input_list = [\"this\", \"is\", \"longest\", \"list\"]\n",
    "m = 0\n",
    "def longword(input_list):\n",
    "    return reduce( (lambda x,y:y if len(y) > len (x) else x), input_list)\n"
   ]
  },
  {
   "cell_type": "code",
   "execution_count": 77,
   "metadata": {},
   "outputs": [
    {
     "data": {
      "text/plain": [
       "'longest'"
      ]
     },
     "execution_count": 77,
     "metadata": {},
     "output_type": "execute_result"
    }
   ],
   "source": [
    "longword(input_list)"
   ]
  },
  {
   "cell_type": "markdown",
   "metadata": {},
   "source": [
    "Task - 2\n",
    "write a python program to find the area of the triangle using the below formula\n",
    "area = (s(s-a)*(s-b)*(s-c))**0.5\n",
    "Function to take the length of the sides of triangles fron user should be defined in the parent class and function to calculate the are should should be defined in sub class "
   ]
  },
  {
   "cell_type": "code",
   "execution_count": 17,
   "metadata": {},
   "outputs": [
    {
     "name": "stdout",
     "output_type": "stream",
     "text": [
      "Enter the length of side A : 2\n",
      "Enter the length of side B : 3\n",
      "Enter the length of side C : 4\n",
      "Area of triangle: 2.9047375096555625\n"
     ]
    }
   ],
   "source": [
    "class triangle:\n",
    "    def __init__(self,a,b,c):\n",
    "        self.a = a\n",
    "        self.b = b\n",
    "        self.c = c\n",
    "    def area1(self):\n",
    "        s = ((self.a+self.b+self.c)/2)\n",
    "        return (s*(s-self.a)*(s-self.b)*(s-self.c))**0.5\n",
    "a = float(input(\"Enter the length of side A : \"))\n",
    "b = float(input(\"Enter the length of side B : \"))\n",
    "c = float(input(\"Enter the length of side C : \"))\n",
    "o = triangle(a,b,c)\n",
    "print(\"Area of triangle:\",o.area1())"
   ]
  },
  {
   "cell_type": "markdown",
   "metadata": {},
   "source": [
    "Write the function filter_long_word()that takes a list of words and an integer n and returns the list of words that are longer than n."
   ]
  },
  {
   "cell_type": "code",
   "execution_count": 21,
   "metadata": {},
   "outputs": [
    {
     "name": "stdout",
     "output_type": "stream",
     "text": [
      "Initialised list_utilities object\n",
      "New list of Word =>['beautiful']\n"
     ]
    }
   ],
   "source": [
    "class list_utilities:\n",
    "    def __init__(self,wordlist):\n",
    "        self.wordlist = wordlist\n",
    "        print(\"Initialised list_utilities object\")\n",
    "        \n",
    "    def filter_long_words(self,n):\n",
    "        return list(filter(lambda x: len(x)>n,self.wordlist))\n",
    "instance = list_utilities([\"This\",\"is\",\"a\",\"beautiful\",\"day\"])\n",
    "print(\"New list of Word =>\" + str(instance.filter_long_words(5)))"
   ]
  },
  {
   "cell_type": "markdown",
   "metadata": {},
   "source": [
    "Write a python program using function concept that maps list of words into a list of integers representing the lenght of the corresponding words."
   ]
  },
  {
   "cell_type": "code",
   "execution_count": 22,
   "metadata": {},
   "outputs": [
    {
     "data": {
      "text/plain": [
       "[4, 2, 1, 9, 3]"
      ]
     },
     "execution_count": 22,
     "metadata": {},
     "output_type": "execute_result"
    }
   ],
   "source": [
    "wordlist = [\"This\",\"is\",\"a\",\"beautiful\",\"day\"]\n",
    "def wordlength(wordlist):\n",
    "    return list(map(lambda x:len(x),wordlist))\n",
    "wordlength(wordlist)\n"
   ]
  },
  {
   "cell_type": "markdown",
   "metadata": {},
   "source": [
    "write a python function which takes a character and returns True if it is a Vowels. Fasle Otherwise."
   ]
  },
  {
   "cell_type": "code",
   "execution_count": 96,
   "metadata": {},
   "outputs": [
    {
     "name": "stdout",
     "output_type": "stream",
     "text": [
      "Enter Character:k\n",
      "k is not a vowel,\n"
     ]
    }
   ],
   "source": [
    "def vowel_check(char):\n",
    "    if(char=='a'or char=='e'or char=='i'or char=='o'or char=='u'):\n",
    "        return True\n",
    "    else:\n",
    "        return False\n",
    "char = input(\"Enter Character:\")\n",
    "if(char.isalpha()==False):\n",
    "    exit()\n",
    "if(vowel_check(char)):\n",
    "    print(char,\"is a vowel,\")\n",
    "else:\n",
    "    print(char,\"is not a vowel,\")"
   ]
  },
  {
   "cell_type": "code",
   "execution_count": null,
   "metadata": {},
   "outputs": [],
   "source": []
  }
 ],
 "metadata": {
  "kernelspec": {
   "display_name": "Python 3",
   "language": "python",
   "name": "python3"
  },
  "language_info": {
   "codemirror_mode": {
    "name": "ipython",
    "version": 3
   },
   "file_extension": ".py",
   "mimetype": "text/x-python",
   "name": "python",
   "nbconvert_exporter": "python",
   "pygments_lexer": "ipython3",
   "version": "3.7.6"
  }
 },
 "nbformat": 4,
 "nbformat_minor": 4
}
